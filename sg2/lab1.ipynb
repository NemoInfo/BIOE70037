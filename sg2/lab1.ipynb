{
 "cells": [
  {
   "cell_type": "code",
   "execution_count": 1,
   "id": "64b7feae-75b1-48e8-a6a7-1e875744c09b",
   "metadata": {},
   "outputs": [
    {
     "data": {
      "text/plain": [
       "'1.26.4'"
      ]
     },
     "execution_count": 1,
     "metadata": {},
     "output_type": "execute_result"
    }
   ],
   "source": [
    "import numpy as np\n",
    "\n",
    "np.__version__"
   ]
  },
  {
   "cell_type": "code",
   "execution_count": 2,
   "id": "ac3f5ab8-3183-4c4e-bd0e-757f414c3d3b",
   "metadata": {},
   "outputs": [],
   "source": [
    "data = np.genfromtxt(\"tempdata.txt\", delimiter=\",\")\n",
    "data = data[25:].reshape((3,25))[:,1:]"
   ]
  },
  {
   "cell_type": "code",
   "execution_count": 3,
   "id": "9461c3e0-82e4-41ba-a6cc-6b6bd35a2532",
   "metadata": {},
   "outputs": [
    {
     "name": "stdout",
     "output_type": "stream",
     "text": [
      "Day 2 @ 06:00 : Alert 100.05 outside of range 200±3 \n",
      "Day 2 @ 07:00 : Alert 134.27 outside of range 200±3 \n",
      "Day 2 @ 08:00 : Alert 176.96 outside of range 200±3 \n",
      "Day 2 @ 09:00 : Alert 192.37 outside of range 200±3 \n"
     ]
    }
   ],
   "source": [
    "ids = np.stack(np.where((data < 197) | (data > 203)), axis=1)\n",
    "\n",
    "for d, h in ids:\n",
    "    print(f\"Day {d+1} @ {h:02}:00 : Alert {data[d,h]} outside of range 200±3 \")"
   ]
  },
  {
   "cell_type": "code",
   "execution_count": 4,
   "id": "a265336e-7013-4566-9774-b0336324b483",
   "metadata": {},
   "outputs": [
    {
     "name": "stdout",
     "output_type": "stream",
     "text": [
      "Day 1: mean = 200.47 | std =  0.30\n",
      "Day 2: mean = 192.21 | std = 24.18\n",
      "Day 3: mean = 200.53 | std =  0.26\n"
     ]
    }
   ],
   "source": [
    "means = data.mean(axis=1)\n",
    "stds = data.std(axis=1, ddof=1)\n",
    "\n",
    "for i, (mean, std) in enumerate(zip(means, stds)):\n",
    "    print(f\"Day {i+1}: mean = {mean:.2f} | std = {std:5.2f}\")"
   ]
  }
 ],
 "metadata": {
  "kernelspec": {
   "display_name": "Python 3 (ipykernel)",
   "language": "python",
   "name": "python3"
  },
  "language_info": {
   "codemirror_mode": {
    "name": "ipython",
    "version": 3
   },
   "file_extension": ".py",
   "mimetype": "text/x-python",
   "name": "python",
   "nbconvert_exporter": "python",
   "pygments_lexer": "ipython3",
   "version": "3.12.5"
  }
 },
 "nbformat": 4,
 "nbformat_minor": 5
}
