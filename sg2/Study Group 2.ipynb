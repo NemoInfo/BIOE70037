{
 "cells": [
  {
   "cell_type": "code",
   "execution_count": 1,
   "id": "31ae7592-d044-4c35-9a4f-adb2f49d5dbc",
   "metadata": {},
   "outputs": [],
   "source": [
    "import numpy as np"
   ]
  },
  {
   "cell_type": "code",
   "execution_count": 2,
   "id": "6cf5ae35-9142-466b-b991-c0f7bf3e4ea6",
   "metadata": {},
   "outputs": [
    {
     "name": "stdout",
     "output_type": "stream",
     "text": [
      "Day 1: [200.81 200.37 200.57 200.35 200.91 200.22 200.63 200.15 200.07 200.71\n",
      " 200.48 200.6  200.94 200.96 200.09 200.03 200.04 200.23 200.17 200.38\n",
      " 200.47 200.69 200.8  200.68]\n",
      "Day 2: [200.   200.56 200.19 200.74 200.22 200.81 100.05 134.27 176.96 192.37\n",
      " 200.3  200.09 200.66 200.65 200.73 200.56 200.54 200.78 200.49 200.57\n",
      " 200.05 200.61 200.48 200.47]\n",
      "Day 3: [200.42 200.43 200.76 200.58 200.14 200.31 200.   200.98 200.56 200.88\n",
      " 200.76 200.46 200.35 200.93 200.41 200.37 200.4  200.77 200.38 200.85\n",
      " 200.45 200.15 200.57 200.81]\n"
     ]
    }
   ],
   "source": [
    "data =  np.genfromtxt('tempdata.txt', delimiter=',')\n",
    "data = data[25:].reshape((3, 25))[:, 1:]\n",
    "\n",
    "for d, temps in enumerate(data):\n",
    "    print(f\"Day {d+1}: {temps}\")"
   ]
  },
  {
   "cell_type": "code",
   "execution_count": 3,
   "id": "b246df4c-eaa4-4f10-9691-325eb5bea621",
   "metadata": {},
   "outputs": [
    {
     "name": "stdout",
     "output_type": "stream",
     "text": [
      "Day 1: mean = 200.47 std =  0.30\n",
      "Day 2: mean = 192.21 std = 24.18\n",
      "Day 3: mean = 200.53 std =  0.26\n"
     ]
    }
   ],
   "source": [
    "means = np.mean(data, axis=1)\n",
    "stds = np.std(data, axis=1, ddof=1)\n",
    "\n",
    "for i in range(3):\n",
    "    print(f\"Day {i+1}: mean = {means[i]:.2f} std = {stds[i]:5.2f}\")"
   ]
  },
  {
   "cell_type": "code",
   "execution_count": 4,
   "id": "75e82b71-e5bd-4f45-bd46-2872a26fb1b6",
   "metadata": {},
   "outputs": [
    {
     "name": "stdout",
     "output_type": "stream",
     "text": [
      "Day 2 @ 06:00 : 100.05 °C is too low!\n",
      "Day 2 @ 07:00 : 134.27 °C is too low!\n",
      "Day 2 @ 08:00 : 176.96 °C is too low!\n",
      "Day 2 @ 09:00 : 192.37 °C is too low!\n"
     ]
    }
   ],
   "source": [
    "alarms = np.stack(np.where( (data < 200 - 3) | (data > 200 + 3) ), axis=1)\n",
    "\n",
    "for d, h in alarms:\n",
    "    print(f\"Day {d+1} @ {h:02}:00 : {data[d][h]} °C is too {\"low\" if data[d][h] < 200 else \"high\"}!\")"
   ]
  }
 ],
 "metadata": {
  "kernelspec": {
   "display_name": "Python 3 (ipykernel)",
   "language": "python",
   "name": "python3"
  },
  "language_info": {
   "codemirror_mode": {
    "name": "ipython",
    "version": 3
   },
   "file_extension": ".py",
   "mimetype": "text/x-python",
   "name": "python",
   "nbconvert_exporter": "python",
   "pygments_lexer": "ipython3",
   "version": "3.12.5"
  }
 },
 "nbformat": 4,
 "nbformat_minor": 5
}
