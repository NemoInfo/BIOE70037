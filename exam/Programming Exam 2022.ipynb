{
 "cells": [
  {
   "cell_type": "markdown",
   "metadata": {},
   "source": [
    "# BIOE97142 Programming Exam 2022"
   ]
  },
  {
   "cell_type": "markdown",
   "metadata": {},
   "source": [
    "This exam consists of **four** parts focusing on:\n",
    "\n",
    "(a) Setting up and loading data into a Pandas dataframe <br>\n",
    "(b) Calculating descriptive statistics <br>\n",
    "(c) Data visualization <br>\n",
    "(d) Performing inferential statistics <br>\n",
    "\n",
    "*Note*: All parts use the same dataset for each section\n",
    "\n",
    "**Exam total of 40 points**\n",
    "\n",
    "5 points - Part (a) <br> \n",
    "10 points - Part (b) <br>\n",
    "10 points - Part (c) <br>\n",
    "10 points - Part (d) <br> \n",
    "5 points - Overall code legibility (Commenting)\n",
    "\n",
    "You will have a total of **30 minutes** to complete this exam.\n",
    "    "
   ]
  },
  {
   "cell_type": "markdown",
   "metadata": {},
   "source": [
    "### Part (a) - Setting up and Loading Data:\n",
    "\n",
    "1. Import numpy, matplotlib.pyplot, pandas, and scipy.stats **(1 point)**\n",
    "<br>\n",
    "\n",
    "2. Load the file \"exam_data_2022.xlsx\" into a Pandas dataframe   **(3 points)**\n",
    "<br>\n",
    "\n",
    "3. Show the dataframe in the Jupyter Notebook output **(1 point)**\n",
    "______________________________________________________________________________________________________________________"
   ]
  },
  {
   "cell_type": "code",
   "execution_count": 1,
   "metadata": {},
   "outputs": [],
   "source": [
    "import numpy as np\n",
    "import matplotlib.pyplot as plt\n",
    "import scipy.stats as stats\n",
    "import pandas as pd"
   ]
  },
  {
   "cell_type": "code",
   "execution_count": 2,
   "metadata": {},
   "outputs": [
    {
     "data": {
      "text/html": [
       "<div>\n",
       "<style scoped>\n",
       "    .dataframe tbody tr th:only-of-type {\n",
       "        vertical-align: middle;\n",
       "    }\n",
       "\n",
       "    .dataframe tbody tr th {\n",
       "        vertical-align: top;\n",
       "    }\n",
       "\n",
       "    .dataframe thead th {\n",
       "        text-align: right;\n",
       "    }\n",
       "</style>\n",
       "<table border=\"1\" class=\"dataframe\">\n",
       "  <thead>\n",
       "    <tr style=\"text-align: right;\">\n",
       "      <th></th>\n",
       "      <th>Unnamed: 0</th>\n",
       "      <th>Time (min)</th>\n",
       "      <th>Material 1 Sample 1 (uM)</th>\n",
       "      <th>Material 1 Sample 2 (uM)</th>\n",
       "      <th>Material 1 Sample 3 (uM)</th>\n",
       "      <th>Material 2 Sample 1 (uM)</th>\n",
       "      <th>Material 2 Sample 2 (uM)</th>\n",
       "      <th>Material 2 Sample 3 (uM)</th>\n",
       "      <th>Material 3 Sample 1 (uM)</th>\n",
       "      <th>Material 3 Sample 2 (uM)</th>\n",
       "      <th>Material 3 Sample 3 (uM)</th>\n",
       "    </tr>\n",
       "  </thead>\n",
       "  <tbody>\n",
       "    <tr>\n",
       "      <th>0</th>\n",
       "      <td>NaN</td>\n",
       "      <td>1</td>\n",
       "      <td>0.0</td>\n",
       "      <td>0.2</td>\n",
       "      <td>0.1</td>\n",
       "      <td>4.2</td>\n",
       "      <td>6.9</td>\n",
       "      <td>7.2</td>\n",
       "      <td>2.3</td>\n",
       "      <td>4.3</td>\n",
       "      <td>1.9</td>\n",
       "    </tr>\n",
       "    <tr>\n",
       "      <th>1</th>\n",
       "      <td>NaN</td>\n",
       "      <td>5</td>\n",
       "      <td>1.4</td>\n",
       "      <td>3.1</td>\n",
       "      <td>2.1</td>\n",
       "      <td>10.4</td>\n",
       "      <td>13.8</td>\n",
       "      <td>12.3</td>\n",
       "      <td>20.8</td>\n",
       "      <td>22.7</td>\n",
       "      <td>24.1</td>\n",
       "    </tr>\n",
       "    <tr>\n",
       "      <th>2</th>\n",
       "      <td>NaN</td>\n",
       "      <td>10</td>\n",
       "      <td>3.2</td>\n",
       "      <td>5.7</td>\n",
       "      <td>4.8</td>\n",
       "      <td>20.6</td>\n",
       "      <td>24.7</td>\n",
       "      <td>25.8</td>\n",
       "      <td>40.2</td>\n",
       "      <td>50.8</td>\n",
       "      <td>43.2</td>\n",
       "    </tr>\n",
       "    <tr>\n",
       "      <th>3</th>\n",
       "      <td>NaN</td>\n",
       "      <td>15</td>\n",
       "      <td>5.8</td>\n",
       "      <td>7.9</td>\n",
       "      <td>6.3</td>\n",
       "      <td>25.8</td>\n",
       "      <td>30.3</td>\n",
       "      <td>31.8</td>\n",
       "      <td>55.6</td>\n",
       "      <td>62.8</td>\n",
       "      <td>63.9</td>\n",
       "    </tr>\n",
       "    <tr>\n",
       "      <th>4</th>\n",
       "      <td>NaN</td>\n",
       "      <td>30</td>\n",
       "      <td>8.9</td>\n",
       "      <td>10.3</td>\n",
       "      <td>9.4</td>\n",
       "      <td>31.8</td>\n",
       "      <td>33.2</td>\n",
       "      <td>34.2</td>\n",
       "      <td>63.8</td>\n",
       "      <td>67.9</td>\n",
       "      <td>70.1</td>\n",
       "    </tr>\n",
       "    <tr>\n",
       "      <th>5</th>\n",
       "      <td>NaN</td>\n",
       "      <td>60</td>\n",
       "      <td>10.7</td>\n",
       "      <td>11.2</td>\n",
       "      <td>10.9</td>\n",
       "      <td>35.8</td>\n",
       "      <td>37.1</td>\n",
       "      <td>39.7</td>\n",
       "      <td>70.4</td>\n",
       "      <td>72.4</td>\n",
       "      <td>74.5</td>\n",
       "    </tr>\n",
       "    <tr>\n",
       "      <th>6</th>\n",
       "      <td>NaN</td>\n",
       "      <td>120</td>\n",
       "      <td>10.8</td>\n",
       "      <td>11.4</td>\n",
       "      <td>11.5</td>\n",
       "      <td>36.8</td>\n",
       "      <td>39.2</td>\n",
       "      <td>40.1</td>\n",
       "      <td>70.2</td>\n",
       "      <td>73.5</td>\n",
       "      <td>76.2</td>\n",
       "    </tr>\n",
       "  </tbody>\n",
       "</table>\n",
       "</div>"
      ],
      "text/plain": [
       "   Unnamed: 0  Time (min)  Material 1 Sample 1 (uM)  Material 1 Sample 2 (uM)  \\\n",
       "0         NaN           1                       0.0                       0.2   \n",
       "1         NaN           5                       1.4                       3.1   \n",
       "2         NaN          10                       3.2                       5.7   \n",
       "3         NaN          15                       5.8                       7.9   \n",
       "4         NaN          30                       8.9                      10.3   \n",
       "5         NaN          60                      10.7                      11.2   \n",
       "6         NaN         120                      10.8                      11.4   \n",
       "\n",
       "   Material 1 Sample 3 (uM)  Material 2 Sample 1 (uM)  \\\n",
       "0                       0.1                       4.2   \n",
       "1                       2.1                      10.4   \n",
       "2                       4.8                      20.6   \n",
       "3                       6.3                      25.8   \n",
       "4                       9.4                      31.8   \n",
       "5                      10.9                      35.8   \n",
       "6                      11.5                      36.8   \n",
       "\n",
       "   Material 2 Sample 2 (uM)  Material 2 Sample 3 (uM)  \\\n",
       "0                       6.9                       7.2   \n",
       "1                      13.8                      12.3   \n",
       "2                      24.7                      25.8   \n",
       "3                      30.3                      31.8   \n",
       "4                      33.2                      34.2   \n",
       "5                      37.1                      39.7   \n",
       "6                      39.2                      40.1   \n",
       "\n",
       "   Material 3 Sample 1 (uM)  Material 3 Sample 2 (uM)  \\\n",
       "0                       2.3                       4.3   \n",
       "1                      20.8                      22.7   \n",
       "2                      40.2                      50.8   \n",
       "3                      55.6                      62.8   \n",
       "4                      63.8                      67.9   \n",
       "5                      70.4                      72.4   \n",
       "6                      70.2                      73.5   \n",
       "\n",
       "   Material 3 Sample 3 (uM)  \n",
       "0                       1.9  \n",
       "1                      24.1  \n",
       "2                      43.2  \n",
       "3                      63.9  \n",
       "4                      70.1  \n",
       "5                      74.5  \n",
       "6                      76.2  "
      ]
     },
     "execution_count": 2,
     "metadata": {},
     "output_type": "execute_result"
    }
   ],
   "source": [
    "df = pd.read_excel(\"exam_data_2022.xlsx\")\n",
    "\n",
    "df"
   ]
  },
  {
   "cell_type": "markdown",
   "metadata": {},
   "source": [
    "### Part (b) - Descriptive Statistics:\n",
    "\n",
    "#### Important: Ensure that you read the column labels in the dataset! \n",
    "\n",
    "#### Each column corresponds to drug release values measured at a time point (specified in the 'Time' column). The first column is the 'Time' column. The next three (3) columns correspond to the drug release data from three samples of Material 1, the following three (3) columns correspond to drug release data from three samples of Material 2, and so on for Material 3. \n",
    "\n",
    "\n",
    "1. Find the mean and standard deviation at the final time (t = 120 minutes) for each material type                        **(4 points)**\n",
    "<br>\n",
    "\n",
    "2. Use for loops and if statements to find which values at the final time (t = 120 minutes) are more or less than one (1) standard deviations away from their respective means for each material type       **(4 points)**\n",
    "<br>    \n",
    "3. Print these values, their material and sample number, and the difference between the value and mean to your Jupyter Notebook output                                            **(2 points)**\n",
    "\n",
    "______________________________________________________________________________________________________________________"
   ]
  },
  {
   "cell_type": "code",
   "execution_count": 71,
   "metadata": {},
   "outputs": [
    {
     "data": {
      "text/plain": [
       "([11.233333333333334, 38.699999999999996, 73.3],\n",
       " [0.3785938897200179, 1.7058722109232007, 3.0049958402633434])"
      ]
     },
     "execution_count": 71,
     "metadata": {},
     "output_type": "execute_result"
    }
   ],
   "source": [
    "means = [df[df[\"Time (min)\"] == 120].iloc[:,i*3+2:i*3+5].mean(axis=1).iloc[0] for i in range(3)]\n",
    "stds = [df[df[\"Time (min)\"] == 120].iloc[:,i*3+2:i*3+5].std(axis=1).iloc[0] for i in range(3)]\n",
    "# df[df[\"Time (min)\"] == 120].mean(\"Material 1 Sample 1 (uM)\")\n",
    "\n",
    "\n",
    "# means, stds\n",
    "means, stds"
   ]
  },
  {
   "cell_type": "code",
   "execution_count": 74,
   "metadata": {},
   "outputs": [
    {
     "name": "stdout",
     "output_type": "stream",
     "text": [
      "Material 1 Sample 1: value=10.8 dif=0.43\n",
      "Material 2 Sample 1: value=36.8 dif=1.90\n",
      "Material 3 Sample 1: value=70.2 dif=3.10\n"
     ]
    }
   ],
   "source": [
    "for i in range(1, 4):\n",
    "    for j in range(1, 4):\n",
    "        val = df[df[\"Time (min)\"] == 120][f\"Material {i} Sample {j} (uM)\"].iloc[0]\n",
    "        diff = np.abs(val - means[i-1])\n",
    "        if diff > stds[i-1]:\n",
    "            print(f\"Material {i} Sample {j}: value={val} dif={diff:.2f}\")"
   ]
  },
  {
   "cell_type": "markdown",
   "metadata": {},
   "source": [
    "### Part (c) - Data Visualization:\n",
    "    \n",
    "Plot the data using appropriate labelling (**must include** x-axis title, y-axis title, title, legend) in a single **vertical** figure (i.e. with one plot on top of the other) using the following as subplots: <br>\n",
    "\n",
    "*Note*: **Time** is measured in **minutes** and **Drug concentration** is measured in **uM**\n",
    "    \n",
    "1. Subplot 1 - Plot each sample column for all materials as a separate line on the same plot (Y-axis = Drug concentration, X-axis = Time) **(5 points)**\n",
    "<br>\n",
    "    \n",
    "2. Subplot 2 - Plot the mean of each timepoint for the three material types as errorbar plots with standard deviations as error values (Y-axis = Drug concentration, X-axis = Time)        **(5 points)**\n",
    "                                              \n",
    "______________________________________________________________________________________________________________________"
   ]
  },
  {
   "cell_type": "code",
   "execution_count": 123,
   "metadata": {},
   "outputs": [
    {
     "data": {
      "image/png": "[encoded data removed]",
      "text/plain": [
       "<Figure size 576x576 with 2 Axes>"
      ]
     },
     "metadata": {
      "needs_background": "light"
     },
     "output_type": "display_data"
    }
   ],
   "source": [
    "fig, axs = plt.subplots(2, 1, figsize=(8, 8))\n",
    "fig.tight_layout()\n",
    "\n",
    "for i in range(2,11):\n",
    "    r, c = divmod(i-2, 3)\n",
    "    axs[0].plot(df[\"Time (min)\"], df.iloc[:,i], label=f\"Material {r+1} Sample {c+1}\")\n",
    "    axs[0].legend()\n",
    "    plt.xlabel(\"thing\")\n",
    "    \n",
    "for i in range(2, 11, 3):\n",
    "    axs[1].errorbar(df[\"Time (min)\"], df.iloc[:,i:i+3].mean(axis=1), yerr=df.iloc[:,i:i+3].std(axis=1), \n",
    "                    capsize=3, label=f\"Material {i // 3 + 1}\")\n",
    "    axs[1].legend()\n",
    "\n",
    "plt.show()"
   ]
  },
  {
   "cell_type": "markdown",
   "metadata": {},
   "source": [
    "### Part (d) - Inferential Statistics:\n",
    "    \n",
    "1. Determine if the data points at the final time (t = 120 minutes) for each material type are normally distributed using a Shapiro-Wilk test    **(2 points)**\n",
    "<br>\n",
    "\n",
    "2. Run a one way ANOVA between these same data points (α = 0.05)                **(2 points)**\n",
    "<br>  \n",
    "\n",
    "3. Perform Bonferroni Correction post-hoc tests to determine inter group significance for all possible combinations of these same data points (i.e. between Material 1, Material 2, and Material 3)   **(4 points)**\n",
    "<br>  \n",
    "\n",
    "4. Comment on the results of the post-hoc test                                             **(2 points)**\n",
    "\n",
    "______________________________________________________________________________________________________________________"
   ]
  },
  {
   "cell_type": "code",
   "execution_count": 126,
   "metadata": {},
   "outputs": [
    {
     "name": "stdout",
     "output_type": "stream",
     "text": [
      "(0.8546507358551025, 0.25296738743782043)\n",
      "(0.9355669617652893, 0.5098437070846558)\n",
      "(0.9966776967048645, 0.8898539543151855)\n"
     ]
    }
   ],
   "source": [
    "for i in range(2, 11, 3):\n",
    "    print(stats.shapiro(df.iloc[-1, i:i+3]))"
   ]
  },
  {
   "cell_type": "code",
   "execution_count": 129,
   "metadata": {},
   "outputs": [
    {
     "data": {
      "text/plain": [
       "F_onewayResult(statistic=720.4777931034394, pvalue=7.129977325553553e-08)"
      ]
     },
     "execution_count": 129,
     "metadata": {},
     "output_type": "execute_result"
    }
   ],
   "source": [
    "# Normal ANOVA since data is normally dsitributed\n",
    "stats.f_oneway(*[df.iloc[-1,i:i+3] for i in range(2,11,3)])"
   ]
  },
  {
   "cell_type": "code",
   "execution_count": 137,
   "metadata": {},
   "outputs": [
    {
     "name": "stdout",
     "output_type": "stream",
     "text": [
      "Corrected alpha level: 0.016666666666666666\n",
      "Significant difference between 1 and 2\n",
      "Significant difference between 1 and 3\n",
      "Significant difference between 2 and 3\n"
     ]
    }
   ],
   "source": [
    "ca = 0.05 / 3\n",
    "print(f\"Corrected alpha level: {ca}\")\n",
    "\n",
    "for i, j in [(2,5), (2,8), (5, 8)]:\n",
    "    if stats.ttest_ind(df.iloc[-1, i:i+3], df.iloc[-1, j:j+3]).pvalue < ca:\n",
    "        print(f\"Significant difference between {i // 3 + 1} and {j // 3 + 1}\")"
   ]
  }
 ],
 "metadata": {
  "anaconda-cloud": {},
  "kernelspec": {
   "display_name": "Python 3",
   "language": "python",
   "name": "python3"
  },
  "language_info": {
   "codemirror_mode": {
    "name": "ipython",
    "version": 3
   },
   "file_extension": ".py",
   "mimetype": "text/x-python",
   "name": "python",
   "nbconvert_exporter": "python",
   "pygments_lexer": "ipython3",
   "version": "3.6.10"
  }
 },
 "nbformat": 4,
 "nbformat_minor": 1
}
