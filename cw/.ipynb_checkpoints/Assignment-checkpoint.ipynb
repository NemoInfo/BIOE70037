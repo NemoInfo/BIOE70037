{
 "cells": [
  {
   "cell_type": "markdown",
   "id": "71df4965-3d21-4b0c-9d7f-df9bee384728",
   "metadata": {},
   "source": [
    "## Setup"
   ]
  },
  {
   "cell_type": "code",
   "execution_count": 1,
   "id": "72e14b8f-9a5b-4727-b5ef-c804abc26f5b",
   "metadata": {},
   "outputs": [
    {
     "name": "stdout",
     "output_type": "stream",
     "text": [
      ">      Numpy: 1.26.4\n",
      "> Matplotlib: 3.9.1\n",
      ">     Pandas: 2.2.2\n",
      ">      Scipy: 1.14.0\n",
      ">    Seaborn: 0.13.2\n"
     ]
    }
   ],
   "source": [
    "import numpy as np\n",
    "import matplotlib as mpl\n",
    "import matplotlib.pyplot as plt\n",
    "import pandas as pd\n",
    "import scipy.stats as stats\n",
    "import seaborn as sns\n",
    "from scipy import __version__ as scipy_version\n",
    "\n",
    "print(f\"> {\"Numpy\":>10}: {np.__version__}\")\n",
    "print(f\"> {\"Matplotlib\":>10}: {mpl.__version__}\")\n",
    "print(f\"> {\"Pandas\":>10}: {pd.__version__}\")\n",
    "print(f\"> {\"Scipy\":>10}: {scipy_version}\")\n",
    "print(f\"> {\"Seaborn\":>10}: {sns.__version__}\")"
   ]
  },
  {
   "cell_type": "code",
   "execution_count": 2,
   "id": "78efa759-e4e2-4ce6-8c0f-a73f33b2d22d",
   "metadata": {},
   "outputs": [
    {
     "data": {
      "text/html": [
       "<div>\n",
       "<style scoped>\n",
       "    .dataframe tbody tr th:only-of-type {\n",
       "        vertical-align: middle;\n",
       "    }\n",
       "\n",
       "    .dataframe tbody tr th {\n",
       "        vertical-align: top;\n",
       "    }\n",
       "\n",
       "    .dataframe thead th {\n",
       "        text-align: right;\n",
       "    }\n",
       "</style>\n",
       "<table border=\"1\" class=\"dataframe\">\n",
       "  <thead>\n",
       "    <tr style=\"text-align: right;\">\n",
       "      <th></th>\n",
       "      <th>Unnamed: 0</th>\n",
       "      <th>Unnamed: 1</th>\n",
       "      <th>Unnamed: 2</th>\n",
       "      <th>Unnamed: 3</th>\n",
       "      <th>Unnamed: 4</th>\n",
       "      <th>Unnamed: 5</th>\n",
       "      <th>Unnamed: 6</th>\n",
       "      <th>Unnamed: 7</th>\n",
       "    </tr>\n",
       "  </thead>\n",
       "  <tbody>\n",
       "    <tr>\n",
       "      <th>0</th>\n",
       "      <td>NaN</td>\n",
       "      <td>* How do calcium supplements impact on systoli...</td>\n",
       "      <td>NaN</td>\n",
       "      <td>NaN</td>\n",
       "      <td>NaN</td>\n",
       "      <td>NaN</td>\n",
       "      <td>NaN</td>\n",
       "      <td>NaN</td>\n",
       "    </tr>\n",
       "    <tr>\n",
       "      <th>1</th>\n",
       "      <td>NaN</td>\n",
       "      <td>Group</td>\n",
       "      <td>BP before</td>\n",
       "      <td>BP after</td>\n",
       "      <td>NaN</td>\n",
       "      <td>NaN</td>\n",
       "      <td>NaN</td>\n",
       "      <td>NaN</td>\n",
       "    </tr>\n",
       "    <tr>\n",
       "      <th>2</th>\n",
       "      <td>NaN</td>\n",
       "      <td>1</td>\n",
       "      <td>107</td>\n",
       "      <td>100</td>\n",
       "      <td>NaN</td>\n",
       "      <td>NaN</td>\n",
       "      <td>NaN</td>\n",
       "      <td>NaN</td>\n",
       "    </tr>\n",
       "    <tr>\n",
       "      <th>3</th>\n",
       "      <td>NaN</td>\n",
       "      <td>1</td>\n",
       "      <td>110</td>\n",
       "      <td>114</td>\n",
       "      <td>NaN</td>\n",
       "      <td>NaN</td>\n",
       "      <td>NaN</td>\n",
       "      <td>NaN</td>\n",
       "    </tr>\n",
       "    <tr>\n",
       "      <th>4</th>\n",
       "      <td>NaN</td>\n",
       "      <td>1</td>\n",
       "      <td>123</td>\n",
       "      <td>105</td>\n",
       "      <td>NaN</td>\n",
       "      <td>NaN</td>\n",
       "      <td>NaN</td>\n",
       "      <td>NaN</td>\n",
       "    </tr>\n",
       "  </tbody>\n",
       "</table>\n",
       "</div>"
      ],
      "text/plain": [
       "   Unnamed: 0                                         Unnamed: 1 Unnamed: 2  \\\n",
       "0         NaN  * How do calcium supplements impact on systoli...        NaN   \n",
       "1         NaN                                              Group  BP before   \n",
       "2         NaN                                                  1        107   \n",
       "3         NaN                                                  1        110   \n",
       "4         NaN                                                  1        123   \n",
       "\n",
       "  Unnamed: 3  Unnamed: 4 Unnamed: 5  Unnamed: 6 Unnamed: 7  \n",
       "0        NaN         NaN        NaN         NaN        NaN  \n",
       "1   BP after         NaN        NaN         NaN        NaN  \n",
       "2        100         NaN        NaN         NaN        NaN  \n",
       "3        114         NaN        NaN         NaN        NaN  \n",
       "4        105         NaN        NaN         NaN        NaN  "
      ]
     },
     "execution_count": 2,
     "metadata": {},
     "output_type": "execute_result"
    }
   ],
   "source": [
    "df_raw = pd.read_excel(\"Dataset 4845.xlsx\")\n",
    "df_raw.head()"
   ]
  },
  {
   "cell_type": "markdown",
   "id": "a8dbf0f4-abba-4536-b322-cafe159e7d8c",
   "metadata": {},
   "source": [
    "**Data cleaning** <br>\n",
    "Here we remove extra rows and empty columns"
   ]
  },
  {
   "cell_type": "code",
   "execution_count": 3,
   "id": "3fa79cb5-2512-4d7d-97a6-ad4019573f45",
   "metadata": {},
   "outputs": [
    {
     "name": "stdout",
     "output_type": "stream",
     "text": [
      "* How do calcium supplements impact on systolic blood pressure?\n",
      "Group 1 -> Ca suppliment (10 sampels)\n",
      "Group 2 -> Placebo (11 sampels)\n"
     ]
    },
    {
     "data": {
      "text/html": [
       "<div>\n",
       "<style scoped>\n",
       "    .dataframe tbody tr th:only-of-type {\n",
       "        vertical-align: middle;\n",
       "    }\n",
       "\n",
       "    .dataframe tbody tr th {\n",
       "        vertical-align: top;\n",
       "    }\n",
       "\n",
       "    .dataframe thead th {\n",
       "        text-align: right;\n",
       "    }\n",
       "</style>\n",
       "<table border=\"1\" class=\"dataframe\">\n",
       "  <thead>\n",
       "    <tr style=\"text-align: right;\">\n",
       "      <th></th>\n",
       "      <th>Group</th>\n",
       "      <th>BP before</th>\n",
       "      <th>BP after</th>\n",
       "    </tr>\n",
       "  </thead>\n",
       "  <tbody>\n",
       "    <tr>\n",
       "      <th>2</th>\n",
       "      <td>1</td>\n",
       "      <td>107</td>\n",
       "      <td>100</td>\n",
       "    </tr>\n",
       "    <tr>\n",
       "      <th>3</th>\n",
       "      <td>1</td>\n",
       "      <td>110</td>\n",
       "      <td>114</td>\n",
       "    </tr>\n",
       "    <tr>\n",
       "      <th>4</th>\n",
       "      <td>1</td>\n",
       "      <td>123</td>\n",
       "      <td>105</td>\n",
       "    </tr>\n",
       "    <tr>\n",
       "      <th>5</th>\n",
       "      <td>1</td>\n",
       "      <td>129</td>\n",
       "      <td>112</td>\n",
       "    </tr>\n",
       "    <tr>\n",
       "      <th>6</th>\n",
       "      <td>1</td>\n",
       "      <td>112</td>\n",
       "      <td>115</td>\n",
       "    </tr>\n",
       "  </tbody>\n",
       "</table>\n",
       "</div>"
      ],
      "text/plain": [
       "   Group  BP before  BP after\n",
       "2      1        107       100\n",
       "3      1        110       114\n",
       "4      1        123       105\n",
       "5      1        129       112\n",
       "6      1        112       115"
      ]
     },
     "execution_count": 3,
     "metadata": {},
     "output_type": "execute_result"
    }
   ],
   "source": [
    "print(df_raw.iloc[0,1])\n",
    "groups = {1: r\"$Ca$ supplements\", 2:\"Placebo\"}\n",
    "df = df_raw.iloc[:,1:4]\n",
    "df.drop([0,1, 12], inplace=True)\n",
    "df.columns = [\"Group\", \"BP before\", \"BP after\"]\n",
    "df = df.astype(\"int32\")\n",
    "print(f\"Group 1 -> Ca suppliment ({len(df[df[\"Group\"]==1])} sampels)\")\n",
    "print(f\"Group 2 -> Placebo ({len(df[df[\"Group\"]==2])} sampels)\")\n",
    "\n",
    "df.head()"
   ]
  },
  {
   "cell_type": "markdown",
   "id": "cfcb5c76-d68d-441c-a55a-965cc10fe7c2",
   "metadata": {},
   "source": [
    "## Data vizualization"
   ]
  },
  {
   "cell_type": "code",
   "execution_count": 4,
   "id": "7ac2e346-0038-4d0d-bb49-95a6041df059",
   "metadata": {},
   "outputs": [],
   "source": [
    "COLOR1 = plt.get_cmap(\"summer\")(np.linspace(.8,.2,4))\n",
    "COLOR2 = plt.get_cmap(\"winter\")(np.linspace(.8,.2,4))\n",
    "COLORS = [COLOR1, COLOR2]"
   ]
  },
  {
   "cell_type": "code",
   "execution_count": 5,
   "id": "3e90dfbe-712a-46c5-a73c-6dfcd3980151",
   "metadata": {},
   "outputs": [
    {
     "data": {
      "image/png": "[encoded data removed]",
      "text/plain": [
       "<Figure size 640x480 with 4 Axes>"
      ]
     },
     "metadata": {},
     "output_type": "display_data"
    }
   ],
   "source": [
    "df[\"diff\"] = df[\"BP before\"] - df[\"BP after\"]\n",
    "\n",
    "fig, axs = plt.subplots(2, 2, layout=\"constrained\")\n",
    "\n",
    "for r, group in enumerate([1,2]):\n",
    "    axs[r,0].hist(df[df[\"Group\"] == group].iloc[:,1:3], stacked=True, edgecolor=\"black\", color=COLOR1[:2])\n",
    "    axs[r,0].title.set_text(groups[group])\n",
    "    axs[r,0].legend([\"BP Before\", \"BP After\"])\n",
    "\n",
    "    df[df[\"Group\"] == group][\"diff\"].hist(ax=axs[r,1], grid=False, edgecolor=\"black\", color=COLOR2[r*2])\n",
    "    axs[r,1].title.set_text(f\"{groups[group]} difference\")\n",
    "\n",
    "    \n",
    "fig.supylabel(\"Count\")\n",
    "fig.supxlabel(\"Blood pressure (BP)\")\n",
    "plt.show()"
   ]
  },
  {
   "cell_type": "code",
   "execution_count": 6,
   "id": "d0921a9d-cc1c-4552-afd4-6a5e88093cbd",
   "metadata": {},
   "outputs": [
    {
     "data": {
      "image/png": "[encoded data removed]",
      "text/plain": [
       "<Figure size 640x480 with 1 Axes>"
      ]
     },
     "metadata": {},
     "output_type": "display_data"
    }
   ],
   "source": [
    "sns.boxplot(x=\"Group\", y=\"diff\", data=df, hue=\"Group\", dodge=False, legend=False,\n",
    "            palette={1:COLOR2[0], 2:COLOR2[2]})\n",
    "plt.xticks(ticks=[0, 1], labels=groups.values())\n",
    "plt.ylabel(\"Difference\")\n",
    "plt.show()"
   ]
  },
  {
   "cell_type": "code",
   "execution_count": 7,
   "id": "c9008089-3084-4eed-bd19-e17196f66d76",
   "metadata": {},
   "outputs": [
    {
     "name": "stdout",
     "output_type": "stream",
     "text": [
      "Group 1, BP before: IS normally distributed with p-value 0.12\n",
      "Group 1, BP after : IS normally distributed with p-value 0.53\n",
      "Group 1, diff     : IS normally distributed with p-value 0.19\n",
      "Group 2, BP before: IS normally distributed with p-value 0.99\n",
      "Group 2, BP after : IS normally distributed with p-value 0.81\n",
      "Group 2, diff     : IS normally distributed with p-value 0.75\n"
     ]
    }
   ],
   "source": [
    "alpha = 0.05\n",
    "\n",
    "for group in [1,2]:\n",
    "    for col in df.columns[1:]:\n",
    "        pval = stats.shapiro(df[df[\"Group\"] == group][col]).pvalue\n",
    "        print(\n",
    "            f\"Group {group}, {col:<9}: IS {\"NOT \" if pval < alpha else \"\"}normally distributed\" + \\\n",
    "            f\" with p-value {pval:.2f}\")"
   ]
  },
  {
   "cell_type": "markdown",
   "id": "35c694cd-0f7d-4f7e-8461-5c9622ed352c",
   "metadata": {},
   "source": [
    "=> The datasets and they're differences are both normaly distributed, we can proceed to do a t-test "
   ]
  },
  {
   "cell_type": "code",
   "execution_count": 8,
   "id": "1b7f6ed9-657f-45ed-89b1-62ed934fccbb",
   "metadata": {},
   "outputs": [
    {
     "data": {
      "text/plain": [
       "TtestResult(statistic=1.6341082415908594, pvalue=0.11869682666685942, df=19.0)"
      ]
     },
     "execution_count": 8,
     "metadata": {},
     "output_type": "execute_result"
    }
   ],
   "source": [
    "stats.ttest_ind(*[df[df[\"Group\"] == g][\"diff\"] for g in [1,2]])"
   ]
  },
  {
   "cell_type": "markdown",
   "id": "7dbd8a0c-4182-47cd-8258-acd74d92dbce",
   "metadata": {},
   "source": [
    "Data is not sufficnetly different (pvalue of 0.12), fail to reject $H_0$ that the distributions are equal"
   ]
  },
  {
   "cell_type": "markdown",
   "id": "56d6a1d0-dc49-40e0-a692-44afe847c70e",
   "metadata": {},
   "source": [
    "### Bootstrapping"
   ]
  },
  {
   "cell_type": "code",
   "execution_count": 20,
   "id": "5b95a171-0669-4e59-b501-6360f20192fc",
   "metadata": {},
   "outputs": [],
   "source": [
    "bdata1 = np.zeros(500)\n",
    "bdata2 = np.zeros(500)\n",
    "for i in range(500):\n",
    "    s1 = df[df[\"Group\"] == 1].sample(n=10, replace=True).mean()\n",
    "    bdata1[i] = s1[\"BP before\"] - s1[\"BP after\"]\n",
    "\n",
    "    s2 = df[df[\"Group\"] == 2].sample(n=11, replace=True).mean()\n",
    "    bdata2[i] = s2[\"BP before\"] - s2[\"BP after\"]"
   ]
  },
  {
   "cell_type": "code",
   "execution_count": 21,
   "id": "d7d9adf9-95ce-4d4b-b53f-df1008f936f8",
   "metadata": {},
   "outputs": [
    {
     "data": {
      "image/png": "[encoded data removed]",
      "text/plain": [
       "<Figure size 640x480 with 1 Axes>"
      ]
     },
     "metadata": {},
     "output_type": "display_data"
    }
   ],
   "source": [
    "bins = np.linspace(-6, 12, 15)\n",
    "plt.hist(bdata1, bins=bins, edgecolor=\"black\", color=COLOR1[3])\n",
    "plt.hist(bdata2, alpha=0.7, bins=bins, edgecolor=\"black\", color=COLOR1[0])\n",
    "plt.legend([f\"Bootstraped {groups[1]}\", f\"Bootstraped {groups[2]}\"])\n",
    "\n",
    "plt.show()"
   ]
  },
  {
   "cell_type": "code",
   "execution_count": 23,
   "id": "d637ba29-df33-4748-a208-996ffb2457b8",
   "metadata": {},
   "outputs": [
    {
     "name": "stdout",
     "output_type": "stream",
     "text": [
      "Bootstrap 95% Confidence Interval for Difference: (-0.57, 11.24)\n"
     ]
    }
   ],
   "source": [
    "lower_percentile = 2.5\n",
    "upper_percentile = 97.5\n",
    "ci_lower = np.percentile(bdata1 - bdata2, lower_percentile)\n",
    "ci_upper = np.percentile(bdata1 - bdata2, upper_percentile)\n",
    "\n",
    "print(f\"Bootstrap 95% Confidence Interval for Difference: ({ci_lower:.2f}, {ci_upper:.2f})\")"
   ]
  },
  {
   "cell_type": "code",
   "execution_count": 24,
   "id": "93c7c538-63f8-4d2a-a439-1fdadda4052d",
   "metadata": {},
   "outputs": [
    {
     "name": "stdout",
     "output_type": "stream",
     "text": [
      "Bootstrap p-value (conservative): 0.5100\n"
     ]
    }
   ],
   "source": [
    "# Conservative Bootstrap p-value Calculation\n",
    "observed_diff = df[df[\"Group\"] == 1][\"diff\"].mean() - df[df[\"Group\"] == 2][\"diff\"].mean()\n",
    "bootstrap_diff = bdata1.mean() - bdata2.mean()\n",
    "\n",
    "# Calculate the proportion of bootstraps where the difference is greater than or equal to the observed difference\n",
    "bootstrap_p_value = np.mean(np.abs(bdata1 - bdata2) >= np.abs(observed_diff))\n",
    "print(f\"Bootstrap p-value (conservative): {bootstrap_p_value:.4f}\")"
   ]
  }
 ],
 "metadata": {
  "kernelspec": {
   "display_name": "Python 3 (ipykernel)",
   "language": "python",
   "name": "python3"
  },
  "language_info": {
   "codemirror_mode": {
    "name": "ipython",
    "version": 3
   },
   "file_extension": ".py",
   "mimetype": "text/x-python",
   "name": "python",
   "nbconvert_exporter": "python",
   "pygments_lexer": "ipython3",
   "version": "3.12.5"
  }
 },
 "nbformat": 4,
 "nbformat_minor": 5
}
